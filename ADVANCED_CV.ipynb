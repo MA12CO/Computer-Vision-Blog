{
 "cells": [
  {
   "cell_type": "markdown",
   "metadata": {},
   "source": [
    "# ADVANCED OPENCV"
   ]
  },
  {
   "cell_type": "markdown",
   "metadata": {},
   "source": [
    "###### AN XML FILE FOR THE REQUIRED CALSSIFIER MUST BE USED"
   ]
  },
  {
   "cell_type": "markdown",
   "metadata": {},
   "source": [
    "FACE DETECTION"
   ]
  },
  {
   "cell_type": "code",
   "execution_count": 21,
   "metadata": {},
   "outputs": [
    {
     "name": "stdout",
     "output_type": "stream",
     "text": [
      "# of found faces= 6\n"
     ]
    },
    {
     "data": {
      "text/plain": [
       "-1"
      ]
     },
     "execution_count": 21,
     "metadata": {},
     "output_type": "execute_result"
    }
   ],
   "source": [
    "import cv2 as cv\n",
    "\n",
    "img = cv.imread('Photos/group 2.jpg')\n",
    "\n",
    "# MUST CONVERT TO GRAYSCALE FIRST\n",
    "gray = cv.cvtColor(img, cv.COLOR_BGR2GRAY)\n",
    "\n",
    "# CREATE A HAAR CASCADE CLASSIFIER\n",
    "haar_cascade = cv.CascadeClassifier('haar_face.xml')\n",
    "\n",
    "# DETECT FACES\n",
    "## haar_cascade.detectMultiScale(GRAY_IMG, SCALE_FACTOR, MIN_NEIGHBOURS)\n",
    "## ==> RETURNS A LIST OF RECTANGLE COORDINATES: X_TLC, Y_TLC, WIDTH, HEIGHT\n",
    "## SCALE_FACTOR ====> TWEAKS NOISE SENSITIVITY ===>\n",
    "## MIN_NEIGHBOURS ==> TWEAKS NOISE SENSITIVITY ===> # OF NEIGHBOURS THE RECTANGLE SHOULD HAVE TO BE A FACE\n",
    "faces_rect = haar_cascade.detectMultiScale(gray, scaleFactor = 1.1, minNeighbors = 6)\n",
    "\n",
    "print(f'# of found faces= {len(faces_rect)}')\n",
    "\n",
    "# LETS DRAW A RECTANGLE AROUND FOUND FACES:\n",
    "for (x, y, w, h) in faces_rect:\n",
    "    \n",
    "    cv.rectangle(img, (x, y), (x+w, y+h), (0,255,0), thickness= 2)\n",
    "\n",
    "cv.imshow('detected faces', img)\n",
    "\n",
    "cv.waitKey(0)"
   ]
  },
  {
   "cell_type": "markdown",
   "metadata": {},
   "source": [
    "FACE RECOGNITION"
   ]
  },
  {
   "cell_type": "code",
   "execution_count": 6,
   "metadata": {},
   "outputs": [
    {
     "name": "stdout",
     "output_type": "stream",
     "text": [
      "['Ben Afflek', 'Elton John', 'Jerry Seinfield', 'Madonna', 'Mindy Kaling']\n",
      "detecting faces/ features started\n",
      "detecting faces/ features ended\n"
     ]
    },
    {
     "ename": "NameError",
     "evalue": "name 'face_recogniser' is not defined",
     "output_type": "error",
     "traceback": [
      "\u001b[1;31m---------------------------------------------------------------------------\u001b[0m",
      "\u001b[1;31mNameError\u001b[0m                                 Traceback (most recent call last)",
      "\u001b[1;32mc:\\Users\\marco.beshay\\OPENCV\\ADVANCED_CV.ipynb Cell 7'\u001b[0m in \u001b[0;36m<cell line: 73>\u001b[1;34m()\u001b[0m\n\u001b[0;32m     <a href='vscode-notebook-cell:/c%3A/Users/marco.beshay/OPENCV/ADVANCED_CV.ipynb#ch0000006?line=69'>70</a>\u001b[0m labels \u001b[39m=\u001b[39m np\u001b[39m.\u001b[39marray(labels)\n\u001b[0;32m     <a href='vscode-notebook-cell:/c%3A/Users/marco.beshay/OPENCV/ADVANCED_CV.ipynb#ch0000006?line=71'>72</a>\u001b[0m \u001b[39m# TRAIN THE RECOGNISER ON THE LIST OF FEATURES AND LABLES\u001b[39;00m\n\u001b[1;32m---> <a href='vscode-notebook-cell:/c%3A/Users/marco.beshay/OPENCV/ADVANCED_CV.ipynb#ch0000006?line=72'>73</a>\u001b[0m face_recogniser\u001b[39m.\u001b[39mtrain()\n\u001b[0;32m     <a href='vscode-notebook-cell:/c%3A/Users/marco.beshay/OPENCV/ADVANCED_CV.ipynb#ch0000006?line=74'>75</a>\u001b[0m \u001b[39m# YOU CAN SAVE THIS TRAINING IN A yml SOURCE FILE TO USE LATER\u001b[39;00m\n\u001b[0;32m     <a href='vscode-notebook-cell:/c%3A/Users/marco.beshay/OPENCV/ADVANCED_CV.ipynb#ch0000006?line=75'>76</a>\u001b[0m face_recogniser\u001b[39m.\u001b[39msave(\u001b[39m'\u001b[39m\u001b[39mface_trained.yml\u001b[39m\u001b[39m'\u001b[39m)\n",
      "\u001b[1;31mNameError\u001b[0m: name 'face_recogniser' is not defined"
     ]
    }
   ],
   "source": [
    "# THIS FILE IS FOR TRAINING\n",
    "\n",
    "import os\n",
    "import cv2 as cv\n",
    "import numpy as np\n",
    "\n",
    "\n",
    "# TO CREATE A LIST OF FOLDER NAMES:\n",
    "people = []\n",
    "DIR = r'C:\\Users\\marco.beshay\\OPENCV\\opencv-course\\Resources\\Faces\\train'\n",
    "\n",
    "haar_cascade = cv.CascadeClassifier('haar_face.xml')\n",
    "\n",
    "# r\"STRING\" ===> TO TREATED THE STRING AS A RAW STRING (\\n ===> ARE NOT TREATED AS NEW LINE)\n",
    "for i in os.listdir(DIR):\n",
    "    people.append(i)\n",
    "\n",
    "print(people)\n",
    "\n",
    "# OR DECLARE MANUALLY\n",
    "# people = ['Ben Afflek', 'Elton John', 'Jerry Seinfield', 'Madonna', 'Mindy  Kaling']\n",
    "\n",
    "# WE NEED A SET OF FEATURES AND CORRESBONDING LABELS\n",
    "features = []\n",
    "labels = []\n",
    "\n",
    "# LOOP THROUGH THE FOLDERS, IN EACH FOLDER LOOP THROUGH PHOTO FILES, DETECT FACES\n",
    "def detect_and_label_faces():\n",
    "    print('detecting faces/ features started')\n",
    "    # LOOPING THROUGH FOLDERS:\n",
    "    for person in people:\n",
    "        # THIS ADDS THE FOLDER NAME (PERSON NAME) TO THE FOLDER PATH\n",
    "        person_path = os.path.join(DIR, person)\n",
    "\n",
    "        # THE LABEL IS SET TO THE INDEX OF THAT PERSON IN THE PEOPLE LIST TO REDUCE COMPUTING STRAIN\n",
    "        label = people.index(person)\n",
    "\n",
    "        # LOOP THROUGH EACH IMAGE IN THAT PERSONS FOLDER\n",
    "        for img in os.listdir(person_path):\n",
    "            # WE NEED EACH IMAGE'S PATH TO USE cv.imread(IMG_PATH)\n",
    "            img_path = os.path.join(person_path, img)\n",
    "\n",
    "            img_array = cv.imread(img_path)\n",
    "\n",
    "            gray_img_array = cv.cvtColor(img_array, cv.COLOR_BGR2GRAY)\n",
    "\n",
    "            faces_rect = haar_cascade.detectMultiScale(gray_img_array, scaleFactor = 1.1, minNeighbors = 4)\n",
    "\n",
    "            # LOOP THROUGH FACES\n",
    "            for (x, y, w, h) in faces_rect:\n",
    "                # CROP THE FACE REGION OF INTEREST FROM THE PHOTO\n",
    "                faces_roi = gray_img_array[y:y+h, x:x+w]\n",
    "\n",
    "                # APPEND THE FACES TO THE FEATURES AND THE CORESPONDING LABEL\n",
    "                features.append(faces_roi)\n",
    "                labels.append(label)\n",
    "    \n",
    "    print('detecting faces/ features ended')\n",
    "\n",
    "\n",
    "detect_and_label_faces()\n",
    "\n",
    "# TO CHECK:\n",
    "# print(f'length of features = {len(features)}')\n",
    "# print(f'length of labels = {len(labels)}')\n",
    "\n",
    "# INSTANTIATE THE FACE RECOGNISER\n",
    "face_recogniser = cv.face.LBPHFaceRecognizer_create()\n",
    "\n",
    "# LET'S CONVERT THE FEATURES AND LABELS LISTS TO NP ARRAYS\n",
    "features = np.array(features, dtype='object')\n",
    "labels = np.array(labels)\n",
    "\n",
    "# TRAIN THE RECOGNISER ON THE LIST OF FEATURES AND LABLES\n",
    "face_recogniser.train()\n",
    "\n",
    "# YOU CAN SAVE THIS TRAINING IN A yml SOURCE FILE TO USE LATER\n",
    "face_recogniser.save('face_trained.yml')\n",
    "\n",
    "# YOU CAN SAVE THE FEATURES LIST AND LABELS LIST AS WELL\n",
    "np.save('features.npy', features)\n",
    "np.save('labels.npy', labels)"
   ]
  },
  {
   "cell_type": "code",
   "execution_count": null,
   "metadata": {},
   "outputs": [],
   "source": [
    "# THIS FILE IS FOR ACTUAL RECOGNITION\n",
    "\n",
    "import os\n",
    "import cv2 as cv\n",
    "import numpy as np\n",
    "\n",
    "haar_cascade = cv.CascadeClassifier('haar_face.xml')\n",
    "\n",
    "people = ['Ben Afflek', 'Elton John', 'Jerry Seinfield', 'Madonna', 'Mindy  Kaling']\n",
    "# USE allow_pickle = True WHEN LOADING OBJECT ARRAYS\n",
    "features = np.load('features.npy', allow_pickle = True)\n",
    "labels = np.load('labels.npy')\n",
    "\n",
    "face_recogniser = cv.face.LBPHFaceRecognizer_create()\n",
    "\n",
    "face_recogniser.read('face_trained.yml')\n",
    "\n",
    "# NOW LET'S TEST THE MODEL WITH A NEW IMG\n",
    "img = cv.imread(r'C:\\Users\\marco.beshay\\OPENCV\\opencv-course\\Resources\\Faces\\val\\ben_afflek\\1.jpg')\n",
    "\n",
    "gray_img = cv.cvtColor(img, cv.COLOR_BGR2GRAY)\n",
    "\n",
    "face_rect = haar_cascade.detectMultiScale(gray_img, scaleFactor = 1.1, minNeighbors = 4)\n",
    "\n",
    "# LOOP THROUGH THE FACES FOUND:\n",
    "for (x, y, w, h) in face_rect:\n",
    "    # CROP THE FACE REGION OF INTEREST FROM THE PHOTO\n",
    "    faces_roi = gray_img[y:y+h, x:x+w]\n",
    "\n",
    "    label, confidence = face_recogniser.predict(faces_roi)\n",
    "\n",
    "    print(f'label = {label} with confidence of {confidence}')\n",
    "\n",
    "    # DISPLAY THE PERSON NAME AND DRAW A RECTANGLE ON THEIR FACE\n",
    "    cv.putText(img, str(people[label]), (20, 20), cv.FONT_HERSHEY_COMPLEX, 1.0, (0, 255, 0), thickness = 2)\n",
    "    cv.rectangle(img, (x, y), (x + w, y + h), (0, 255, 0), thickness = 2)\n",
    "\n",
    "cv.imshow('detected face', img)\n",
    "\n",
    "cv.waitKey(0)"
   ]
  }
 ],
 "metadata": {
  "interpreter": {
   "hash": "369f2c481f4da34e4445cda3fffd2e751bd1c4d706f27375911949ba6bb62e1c"
  },
  "kernelspec": {
   "display_name": "Python 3.10.1 64-bit",
   "language": "python",
   "name": "python3"
  },
  "language_info": {
   "codemirror_mode": {
    "name": "ipython",
    "version": 3
   },
   "file_extension": ".py",
   "mimetype": "text/x-python",
   "name": "python",
   "nbconvert_exporter": "python",
   "pygments_lexer": "ipython3",
   "version": "3.10.1"
  },
  "orig_nbformat": 4
 },
 "nbformat": 4,
 "nbformat_minor": 2
}
